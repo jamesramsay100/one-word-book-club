{
 "cells": [
  {
   "cell_type": "code",
   "execution_count": 6,
   "metadata": {},
   "outputs": [],
   "source": [
    "import openai, os\n",
    "from tqdm import tqdm\n",
    "from glob import glob"
   ]
  },
  {
   "cell_type": "markdown",
   "metadata": {},
   "source": [
    "# Introduction\n",
    "Takes natural language text input (novels, articles, etc.) and outputs a one sentence and one word summary.\n",
    "\n",
    "Model documentation: https://beta.openai.com/docs/introduction\n",
    "\n",
    "## Setup \n",
    "Export api key before running: `export OPENAI_API_KEY=<your_api_key>`"
   ]
  },
  {
   "cell_type": "markdown",
   "metadata": {},
   "source": [
    "# Function definitions"
   ]
  },
  {
   "cell_type": "markdown",
   "metadata": {},
   "source": [
    "## Loading and formatting"
   ]
  },
  {
   "cell_type": "code",
   "execution_count": 7,
   "metadata": {},
   "outputs": [],
   "source": [
    "def text2paragraphs(file_path: str):\n",
    "    \"\"\"\n",
    "    Reads a text file and returns a list of paragraphs.\n",
    "    \"\"\"\n",
    "    with open(file_path, \"r\") as f:\n",
    "        text = f.read()\n",
    "    return text.split(\"\\n\\n\")\n",
    "\n",
    "def removeIntegerOnlyLines(paragraphs: list):\n",
    "    \"\"\"\n",
    "    Removes paragraphs that contain only integers.\n",
    "    \"\"\"\n",
    "    return [p for p in paragraphs if not p.isdigit()]\n",
    "\n",
    "def removeEmptyLines(paragraphs: list):\n",
    "    \"\"\"\n",
    "    Removes paragraphs that are empty.\n",
    "    \"\"\"\n",
    "    return [p for p in paragraphs if p]\n",
    "\n",
    "def removeNewLines(paragraphs: list):\n",
    "    \"\"\"\n",
    "    Removes new lines.\n",
    "    \"\"\"\n",
    "    return [p.replace(\"\\n\", \" \") for p in paragraphs]\n",
    "\n",
    "def joinParagraphsMaxLength(paragraphs: list, max_length: int = 800):\n",
    "    \"\"\"\n",
    "    Joins paragraphs that are longer than max_length.\n",
    "    \"\"\"\n",
    "    joined_paragraphs = [\" \"]\n",
    "    for p in paragraphs:\n",
    "        para_length = len(p.split(\" \"))\n",
    "        previous_length = len(joined_paragraphs[-1].split(\" \"))\n",
    "        if para_length + previous_length > max_length:\n",
    "            joined_paragraphs.append(p)\n",
    "        else:\n",
    "            joined_paragraphs[-1] += \" \" + p\n",
    "\n",
    "    return joined_paragraphs\n",
    "\n",
    "def replaceSlashInParagraphs(paragraphs: list):\n",
    "    \"\"\"\n",
    "    Replaces slashes in paragraphs.\n",
    "    \"\"\"\n",
    "    return [p.replace(\"\\'\", \"'\") for p in paragraphs]\n",
    "\n",
    "def loadAndFormatText(file_path: str):\n",
    "    \"\"\"\n",
    "    Load and format text into paragraphs.\n",
    "    \"\"\"\n",
    "\n",
    "    paragraphs = text2paragraphs(file_path)\n",
    "    paragraphs = removeIntegerOnlyLines(paragraphs)\n",
    "    paragraphs = removeEmptyLines(paragraphs)\n",
    "    paragraphs = removeNewLines(paragraphs)\n",
    "    paragraphs = joinParagraphsMaxLength(paragraphs)\n",
    "    paragraphs = replaceSlashInParagraphs(paragraphs)\n",
    "\n",
    "    return paragraphs"
   ]
  },
  {
   "cell_type": "code",
   "execution_count": 17,
   "metadata": {},
   "outputs": [],
   "source": [
    "def dictToMarkdownFile(d: dict, file_path: str):\n",
    "    \"\"\"\n",
    "    Converts a dictionary to a Markdown file.\n",
    "    \"\"\"\n",
    "    with open(file_path, \"w\") as f:\n",
    "        \n",
    "        f.write(\"# \" + d['Title'] + \"\\n\")\n",
    "        for key in d:\n",
    "            if key != 'title':\n",
    "                f.write(\"\\n## \" + key + \"\\n\")\n",
    "                f.write(d[key] + \"\\n\")\n",
    "\n",
    "def changeFileExtension(file_path: str, new_extension: str):\n",
    "    \"\"\"\n",
    "    Changes the file extension of a file.\n",
    "    \"\"\"\n",
    "    return os.path.splitext(file_path)[0] + new_extension\n",
    "\n",
    "def countWordsInString(s: str):\n",
    "    \"\"\"\n",
    "    Counts the number of words in a string.\n",
    "    \"\"\"\n",
    "    return len(s.split(\" \"))\n",
    "\n",
    "def longestWordInString(s: str):\n",
    "    \"\"\"\n",
    "    Returns the longest word in a string.\n",
    "    \"\"\"\n",
    "    return max(s.split(\" \"), key = len)"
   ]
  },
  {
   "cell_type": "markdown",
   "metadata": {},
   "source": [
    "## NLP prediction"
   ]
  },
  {
   "cell_type": "code",
   "execution_count": 9,
   "metadata": {},
   "outputs": [],
   "source": [
    "def tldrSummary(input_text:str, engine:str=\"curie\", summary_prompt:str=\"\\n\\ntl;dr:\", max_tokens:int=64, temperature:float=0.1):\n",
    "    \"\"\"\n",
    "    Makes a summarisation text prediction\n",
    "    \"\"\"\n",
    "    openai.api_key = os.getenv(\"OPENAI_API_KEY\")\n",
    "    response = openai.Completion.create(\n",
    "        engine=engine,\n",
    "        prompt=input_text+summary_prompt,\n",
    "        temperature=temperature,\n",
    "        max_tokens=max_tokens,\n",
    "        top_p=1,\n",
    "        frequency_penalty=0,\n",
    "        presence_penalty=0,\n",
    "        stop=[\"\\n\"]\n",
    "    )\n",
    "    return response.choices[0].text"
   ]
  },
  {
   "cell_type": "code",
   "execution_count": 19,
   "metadata": {},
   "outputs": [],
   "source": [
    "def main(file_path: str, engine_1:str = \"davinci\", engine_2:str = \"davinci\"):\n",
    "    \"\"\"\n",
    "    Load a book, make a summarisation prediction and save the result.\n",
    "    \"\"\"\n",
    "\n",
    "    output = {}\n",
    "    b = os.path.basename(file_path)\n",
    "    output['Title'] = os.path.splitext(b)[0]\n",
    "\n",
    "    paragraphs = loadAndFormatText(file_path)\n",
    "\n",
    "    # generate long summary\n",
    "    summaries = []\n",
    "    for p in tqdm(paragraphs):\n",
    "        summaries.append(tldrSummary(p, engine=engine_1))\n",
    "    # join them\n",
    "    joined_summaries = joinParagraphsMaxLength(summaries)\n",
    "    joined_summaries = removeEmptyLines(joined_summaries)\n",
    "    joined_summaries = removeNewLines(joined_summaries)\n",
    "    output['Long summary'] = joined_summaries[0].strip()\n",
    "\n",
    "    # generate short summary\n",
    "    one_sentence_summary = tldrSummary(\n",
    "        joined_summaries[0], \n",
    "        temperature=0.1,\n",
    "        engine=engine_2\n",
    "    )\n",
    "    output['Short summary'] = one_sentence_summary.strip()\n",
    "\n",
    "    \n",
    "    # generate one word summary\n",
    "    one_word_summary = longestWordInString(one_sentence_summary)\n",
    "    attempts = 0\n",
    "    while attempts < 10:\n",
    "        # try n times for a 1 word summary, else just use longest word\n",
    "        one_word_attempt = tldrSummary(\n",
    "            joined_summaries[0], \n",
    "            max_tokens=10,\n",
    "            temperature=0.5,\n",
    "            summary_prompt=\"\\n\\nTo summarize in one word:\",\n",
    "            engine=engine_2\n",
    "        )\n",
    "        if countWordsInString(one_word_attempt) == 1:\n",
    "            one_word_summary = one_word_attempt\n",
    "            print(f'One word from model: {one_word_summary}')\n",
    "            break\n",
    "        attempts += 1\n",
    "\n",
    "    output['One word summary'] = one_word_summary.strip()\n",
    "\n",
    "    # save it in a Markdown file\n",
    "    dictToMarkdownFile(\n",
    "        output,\n",
    "        file_path=changeFileExtension(file_path, \".md\").replace('books', 'summaries')\n",
    "    )\n",
    "\n",
    "    return output\n",
    "    "
   ]
  },
  {
   "cell_type": "markdown",
   "metadata": {},
   "source": [
    "# Main"
   ]
  },
  {
   "cell_type": "code",
   "execution_count": 20,
   "metadata": {},
   "outputs": [
    {
     "name": "stderr",
     "output_type": "stream",
     "text": [
      "100%|██████████| 25/25 [01:14<00:00,  2.99s/it]\n"
     ]
    },
    {
     "name": "stdout",
     "output_type": "stream",
     "text": [
      "One word from model: \n"
     ]
    },
    {
     "name": "stderr",
     "output_type": "stream",
     "text": [
      "100%|██████████| 9/9 [00:26<00:00,  2.94s/it]\n"
     ]
    },
    {
     "name": "stdout",
     "output_type": "stream",
     "text": [
      "One word from model: \n"
     ]
    },
    {
     "name": "stderr",
     "output_type": "stream",
     "text": [
      "100%|██████████| 12/12 [00:28<00:00,  2.39s/it]\n"
     ]
    },
    {
     "name": "stdout",
     "output_type": "stream",
     "text": [
      "One word from model: \n"
     ]
    },
    {
     "name": "stderr",
     "output_type": "stream",
     "text": [
      "100%|██████████| 6/6 [00:26<00:00,  4.35s/it]\n"
     ]
    },
    {
     "name": "stdout",
     "output_type": "stream",
     "text": [
      "One word from model: \n"
     ]
    },
    {
     "name": "stderr",
     "output_type": "stream",
     "text": [
      "100%|██████████| 7/7 [00:18<00:00,  2.58s/it]\n"
     ]
    },
    {
     "name": "stdout",
     "output_type": "stream",
     "text": [
      "One word from model: \n"
     ]
    },
    {
     "name": "stderr",
     "output_type": "stream",
     "text": [
      "100%|██████████| 10/10 [00:35<00:00,  3.53s/it]\n"
     ]
    },
    {
     "name": "stdout",
     "output_type": "stream",
     "text": [
      "One word from model: \n"
     ]
    },
    {
     "name": "stderr",
     "output_type": "stream",
     "text": [
      "100%|██████████| 6/6 [00:22<00:00,  3.77s/it]\n"
     ]
    },
    {
     "name": "stdout",
     "output_type": "stream",
     "text": [
      "One word from model: \n"
     ]
    }
   ],
   "source": [
    "# run for all 'books'\n",
    "for book in glob(\"books/*.txt\"):\n",
    "    _ = main(book)"
   ]
  },
  {
   "cell_type": "code",
   "execution_count": null,
   "metadata": {},
   "outputs": [],
   "source": []
  }
 ],
 "metadata": {
  "interpreter": {
   "hash": "7155b59b11200a47ab05e600efbbdbf33516f262c4571b22ba04992b1017ef31"
  },
  "kernelspec": {
   "display_name": "Python 3.9.7 64-bit ('venv': venv)",
   "language": "python",
   "name": "python3"
  },
  "language_info": {
   "codemirror_mode": {
    "name": "ipython",
    "version": 3
   },
   "file_extension": ".py",
   "mimetype": "text/x-python",
   "name": "python",
   "nbconvert_exporter": "python",
   "pygments_lexer": "ipython3",
   "version": "3.9.7"
  },
  "orig_nbformat": 4
 },
 "nbformat": 4,
 "nbformat_minor": 2
}
